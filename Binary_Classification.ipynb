{
 "cells": [
  {
   "cell_type": "markdown",
   "metadata": {
    "_cell_guid": "b1076dfc-b9ad-4769-8c92-a6c4dae69d19",
    "_uuid": "8f2839f25d086af736a60e9eeb907d3b93b6e0e5"
   },
   "source": [
    "<center><h3 style=\"font-size:200%; font-family:cursive; color:#ff6666;\"><b>Binary Classification</b></h3></center>"
   ]
  },
  {
   "cell_type": "code",
   "execution_count": 12,
   "metadata": {
    "execution": {
     "iopub.execute_input": "2024-03-13T15:07:08.026577Z",
     "iopub.status.busy": "2024-03-13T15:07:08.026231Z",
     "iopub.status.idle": "2024-03-13T15:07:09.139813Z",
     "shell.execute_reply": "2024-03-13T15:07:09.138819Z",
     "shell.execute_reply.started": "2024-03-13T15:07:08.026547Z"
    }
   },
   "outputs": [],
   "source": [
    "import numpy as np\n",
    "import pandas as pd\n",
    "import matplotlib.pyplot as plt\n",
    "import seaborn as sns\n",
    "%matplotlib inline\n",
    "import warnings\n",
    "warnings.filterwarnings('ignore')\n",
    "import missingno as msno\n",
    "from sklearn import preprocessing"
   ]
  },
  {
   "cell_type": "markdown",
   "metadata": {},
   "source": [
    "<center><h3 style=\"font-size:200%; font-family:cursive; color:#ff6666;\"><b>Load the Dataset A</b></h3></center>"
   ]
  },
  {
   "cell_type": "code",
   "execution_count": 13,
   "metadata": {
    "execution": {
     "iopub.execute_input": "2024-03-13T15:07:36.734359Z",
     "iopub.status.busy": "2024-03-13T15:07:36.734010Z",
     "iopub.status.idle": "2024-03-13T15:07:36.766135Z",
     "shell.execute_reply": "2024-03-13T15:07:36.765236Z",
     "shell.execute_reply.started": "2024-03-13T15:07:36.734333Z"
    }
   },
   "outputs": [
    {
     "name": "stdout",
     "output_type": "stream",
     "text": [
      "Shape of the dataset (2200, 58)\n"
     ]
    },
    {
     "data": {
      "text/html": [
       "<div>\n",
       "<style scoped>\n",
       "    .dataframe tbody tr th:only-of-type {\n",
       "        vertical-align: middle;\n",
       "    }\n",
       "\n",
       "    .dataframe tbody tr th {\n",
       "        vertical-align: top;\n",
       "    }\n",
       "\n",
       "    .dataframe thead th {\n",
       "        text-align: right;\n",
       "    }\n",
       "</style>\n",
       "<table border=\"1\" class=\"dataframe\">\n",
       "  <thead>\n",
       "    <tr style=\"text-align: right;\">\n",
       "      <th></th>\n",
       "      <th>Feature1</th>\n",
       "      <th>Feature2</th>\n",
       "      <th>Feature3</th>\n",
       "      <th>Feature4</th>\n",
       "      <th>Feature5</th>\n",
       "      <th>Feature6</th>\n",
       "      <th>Feature7</th>\n",
       "      <th>Feature8</th>\n",
       "      <th>Feature9</th>\n",
       "      <th>Feature10</th>\n",
       "      <th>...</th>\n",
       "      <th>Feature49</th>\n",
       "      <th>Feature50</th>\n",
       "      <th>Feature51</th>\n",
       "      <th>Feature52</th>\n",
       "      <th>Feature53</th>\n",
       "      <th>Feature54</th>\n",
       "      <th>Feature55</th>\n",
       "      <th>Feature56</th>\n",
       "      <th>Feature57</th>\n",
       "      <th>Label</th>\n",
       "    </tr>\n",
       "  </thead>\n",
       "  <tbody>\n",
       "    <tr>\n",
       "      <th>0</th>\n",
       "      <td>1</td>\n",
       "      <td>2</td>\n",
       "      <td>1</td>\n",
       "      <td>2</td>\n",
       "      <td>1</td>\n",
       "      <td>2</td>\n",
       "      <td>3</td>\n",
       "      <td>3</td>\n",
       "      <td>3</td>\n",
       "      <td>3</td>\n",
       "      <td>...</td>\n",
       "      <td>3</td>\n",
       "      <td>2</td>\n",
       "      <td>3</td>\n",
       "      <td>4</td>\n",
       "      <td>2</td>\n",
       "      <td>2</td>\n",
       "      <td>2</td>\n",
       "      <td>2</td>\n",
       "      <td>1</td>\n",
       "      <td>1</td>\n",
       "    </tr>\n",
       "    <tr>\n",
       "      <th>1</th>\n",
       "      <td>3</td>\n",
       "      <td>3</td>\n",
       "      <td>4</td>\n",
       "      <td>2</td>\n",
       "      <td>1</td>\n",
       "      <td>2</td>\n",
       "      <td>2</td>\n",
       "      <td>4</td>\n",
       "      <td>3</td>\n",
       "      <td>2</td>\n",
       "      <td>...</td>\n",
       "      <td>1</td>\n",
       "      <td>4</td>\n",
       "      <td>3</td>\n",
       "      <td>4</td>\n",
       "      <td>4</td>\n",
       "      <td>4</td>\n",
       "      <td>1</td>\n",
       "      <td>3</td>\n",
       "      <td>4</td>\n",
       "      <td>1</td>\n",
       "    </tr>\n",
       "    <tr>\n",
       "      <th>2</th>\n",
       "      <td>4</td>\n",
       "      <td>1</td>\n",
       "      <td>4</td>\n",
       "      <td>4</td>\n",
       "      <td>4</td>\n",
       "      <td>4</td>\n",
       "      <td>1</td>\n",
       "      <td>1</td>\n",
       "      <td>2</td>\n",
       "      <td>1</td>\n",
       "      <td>...</td>\n",
       "      <td>1</td>\n",
       "      <td>2</td>\n",
       "      <td>1</td>\n",
       "      <td>1</td>\n",
       "      <td>4</td>\n",
       "      <td>2</td>\n",
       "      <td>2</td>\n",
       "      <td>4</td>\n",
       "      <td>4</td>\n",
       "      <td>1</td>\n",
       "    </tr>\n",
       "    <tr>\n",
       "      <th>3</th>\n",
       "      <td>1</td>\n",
       "      <td>4</td>\n",
       "      <td>1</td>\n",
       "      <td>1</td>\n",
       "      <td>3</td>\n",
       "      <td>3</td>\n",
       "      <td>4</td>\n",
       "      <td>4</td>\n",
       "      <td>3</td>\n",
       "      <td>4</td>\n",
       "      <td>...</td>\n",
       "      <td>1</td>\n",
       "      <td>3</td>\n",
       "      <td>3</td>\n",
       "      <td>4</td>\n",
       "      <td>1</td>\n",
       "      <td>3</td>\n",
       "      <td>3</td>\n",
       "      <td>4</td>\n",
       "      <td>2</td>\n",
       "      <td>-1</td>\n",
       "    </tr>\n",
       "    <tr>\n",
       "      <th>4</th>\n",
       "      <td>3</td>\n",
       "      <td>4</td>\n",
       "      <td>4</td>\n",
       "      <td>3</td>\n",
       "      <td>1</td>\n",
       "      <td>1</td>\n",
       "      <td>4</td>\n",
       "      <td>4</td>\n",
       "      <td>4</td>\n",
       "      <td>1</td>\n",
       "      <td>...</td>\n",
       "      <td>3</td>\n",
       "      <td>1</td>\n",
       "      <td>3</td>\n",
       "      <td>2</td>\n",
       "      <td>1</td>\n",
       "      <td>4</td>\n",
       "      <td>2</td>\n",
       "      <td>1</td>\n",
       "      <td>1</td>\n",
       "      <td>-1</td>\n",
       "    </tr>\n",
       "  </tbody>\n",
       "</table>\n",
       "<p>5 rows × 58 columns</p>\n",
       "</div>"
      ],
      "text/plain": [
       "   Feature1  Feature2  Feature3  Feature4  Feature5  Feature6  Feature7  \\\n",
       "0         1         2         1         2         1         2         3   \n",
       "1         3         3         4         2         1         2         2   \n",
       "2         4         1         4         4         4         4         1   \n",
       "3         1         4         1         1         3         3         4   \n",
       "4         3         4         4         3         1         1         4   \n",
       "\n",
       "   Feature8  Feature9  Feature10  ...  Feature49  Feature50  Feature51  \\\n",
       "0         3         3          3  ...          3          2          3   \n",
       "1         4         3          2  ...          1          4          3   \n",
       "2         1         2          1  ...          1          2          1   \n",
       "3         4         3          4  ...          1          3          3   \n",
       "4         4         4          1  ...          3          1          3   \n",
       "\n",
       "   Feature52  Feature53  Feature54  Feature55  Feature56  Feature57  Label  \n",
       "0          4          2          2          2          2          1      1  \n",
       "1          4          4          4          1          3          4      1  \n",
       "2          1          4          2          2          4          4      1  \n",
       "3          4          1          3          3          4          2     -1  \n",
       "4          2          1          4          2          1          1     -1  \n",
       "\n",
       "[5 rows x 58 columns]"
      ]
     },
     "execution_count": 13,
     "metadata": {},
     "output_type": "execute_result"
    }
   ],
   "source": [
    "df = pd.read_csv(\"DataA1.csv\")\n",
    "print(\"Shape of the dataset\", df.shape)\n",
    "df.head()"
   ]
  },
  {
   "cell_type": "markdown",
   "metadata": {},
   "source": [
    "<center>\n",
    "    <h4 style=\"font-family:cursive; color:#ff6666;\">\n",
    "        1. Preprocess the data using the Z-score normalization, and randomly split the data into a training set and a test set using the hold-out scheme: 70% of samples for training and the other 30% for testing.\n",
    "    </h4>\n",
    "</center>"
   ]
  },
  {
   "cell_type": "code",
   "execution_count": 14,
   "metadata": {
    "execution": {
     "iopub.execute_input": "2024-03-13T15:28:53.820621Z",
     "iopub.status.busy": "2024-03-13T15:28:53.820241Z",
     "iopub.status.idle": "2024-03-13T15:28:53.833707Z",
     "shell.execute_reply": "2024-03-13T15:28:53.832757Z",
     "shell.execute_reply.started": "2024-03-13T15:28:53.820592Z"
    }
   },
   "outputs": [
    {
     "name": "stdout",
     "output_type": "stream",
     "text": [
      "Training set size:  (1540, 57)\n",
      "Test set size:  (660, 57)\n"
     ]
    }
   ],
   "source": [
    "from sklearn.model_selection import train_test_split\n",
    "from sklearn.preprocessing import StandardScaler\n",
    "len = df.shape[1]-1\n",
    "\n",
    "#split the dataset into X and Y label\n",
    "X_Data = df.drop(columns=['Label']).values\n",
    "Y_Lavel = df['Label'].values.ravel()\n",
    "\n",
    "# Fit and transform the data into Z-score\n",
    "scaler = StandardScaler()\n",
    "X_Data = scaler.fit_transform(X_Data)\n",
    "\n",
    "# Split the data into a training set and a test set\n",
    "X_train, X_test, Y_train, Y_test = train_test_split(X_Data, Y_Lavel, test_size=0.3, random_state=42)\n",
    "print(\"Training set size: \", X_train.shape)\n",
    "print(\"Test set size: \", X_test.shape)"
   ]
  },
  {
   "cell_type": "markdown",
   "metadata": {
    "execution": {
     "iopub.execute_input": "2024-03-13T15:29:34.210482Z",
     "iopub.status.busy": "2024-03-13T15:29:34.209655Z",
     "iopub.status.idle": "2024-03-13T15:29:34.217459Z",
     "shell.execute_reply": "2024-03-13T15:29:34.216220Z",
     "shell.execute_reply.started": "2024-03-13T15:29:34.210450Z"
    }
   },
   "source": [
    "<center>\n",
    "    <h4 style=\"font-family:cursive; color:#ff6666;\">\n",
    "        2. Use 5-fold cross validation on the training set to select the parameters k for k-NN from the set [1, 3, 5, 7, ..., 31]. Plot a figure that shows the relationship between the accuracy and the parameter k. Report the best k in terms of classification accuracy. \n",
    "    </h4>\n",
    "</center>"
   ]
  },
  {
   "cell_type": "code",
   "execution_count": 19,
   "metadata": {
    "execution": {
     "iopub.execute_input": "2024-03-13T15:35:00.647834Z",
     "iopub.status.busy": "2024-03-13T15:35:00.646993Z",
     "iopub.status.idle": "2024-03-13T15:35:03.601644Z",
     "shell.execute_reply": "2024-03-13T15:35:03.600748Z",
     "shell.execute_reply.started": "2024-03-13T15:35:00.647799Z"
    }
   },
   "outputs": [
    {
     "data": {
      "image/png": "[encoded data removed]",
      "text/plain": [
       "<Figure size 720x432 with 1 Axes>"
      ]
     },
     "metadata": {
      "needs_background": "light"
     },
     "output_type": "display_data"
    },
    {
     "name": "stdout",
     "output_type": "stream",
     "text": [
      "Accuracy: 0.706 for k = 1\n",
      "Accuracy: 0.719 for k = 3\n",
      "Accuracy: 0.730 for k = 5\n",
      "Accuracy: 0.730 for k = 7\n",
      "Accuracy: 0.732 for k = 9\n",
      "Accuracy: 0.732 for k = 11\n",
      "Accuracy: 0.736 for k = 13\n",
      "Accuracy: 0.738 for k = 15\n",
      "Accuracy: 0.735 for k = 17\n",
      "Accuracy: 0.727 for k = 19\n",
      "Accuracy: 0.725 for k = 21\n",
      "Accuracy: 0.725 for k = 23\n",
      "Accuracy: 0.724 for k = 25\n",
      "Accuracy: 0.723 for k = 27\n",
      "Accuracy: 0.720 for k = 29\n",
      "Accuracy: 0.718 for k = 31\n",
      "The best k in terms of classification accuracy is:  15\n",
      "The highest classification accuracy achieved is: 0.738\n"
     ]
    }
   ],
   "source": [
    "import numpy as np\n",
    "from sklearn.neighbors import KNeighborsClassifier\n",
    "from sklearn.model_selection import cross_val_score\n",
    "import matplotlib.pyplot as plt\n",
    "\n",
    "# Set the seed \n",
    "np.random.seed(42)\n",
    "\n",
    "# Define the parameter range, k values from 1 to 31 with step size 2\n",
    "k_values = list(range(1, 32, 2))\n",
    "\n",
    "# Initialize a list to store cross-validation scores\n",
    "cv_scores = []\n",
    "\n",
    "# Perform 5-fold cross-validation for each k value\n",
    "for k in k_values:\n",
    "    knn = KNeighborsClassifier(n_neighbors=k)\n",
    "    scores = cross_val_score(knn, X_train, Y_train, cv=5, scoring='accuracy')\n",
    "    cv_scores.append(scores.mean())\n",
    "\n",
    "# Plot accuracy vs. k\n",
    "plt.figure(figsize=(10, 6))\n",
    "plt.plot(k_values, cv_scores, marker='o', linestyle='-', color='b')\n",
    "plt.title('Accuracy vs. K-value for K-NN')\n",
    "plt.xlabel('K-value')\n",
    "plt.ylabel('Accuracy')\n",
    "plt.grid()\n",
    "plt.show()\n",
    "\n",
    "# Print the cross-validation scores for each k value\n",
    "for k, score in zip(k_values, cv_scores):\n",
    "    print(f\"Accuracy: {score:.3f} for k = {k}\")\n",
    "\n",
    "# Report the best k in terms of classification accuracy\n",
    "best_k = k_values[cv_scores.index(max(cv_scores))]\n",
    "print(\"The best k in terms of classification accuracy is: \", best_k)\n",
    "print(f\"The highest classification accuracy achieved is: {max(cv_scores):.3f}\")"
   ]
  },
  {
   "cell_type": "markdown",
   "metadata": {},
   "source": [
    "<center>\n",
    "    <h4 style=\"font-family:cursive; color:#ff6666;\">\n",
    " 3. For the RBF kernel SVM, there are two parameters to be decided: the soft margin penalty term c and the kernel width parameter gamma. Again use 5-fold cross validation on the training set to select the parameter c from the set [0.1, 0.5, 1, 2, 5, 10, 20, 50] and select the parameter gamma from the set [0.01, 0.05, 0.1, 0.5, 1, 2, 5, 10]. Report the best parameters in terms of classification accuracy. \n",
    "    </h4>\n",
    "</center>"
   ]
  },
  {
   "cell_type": "code",
   "execution_count": 6,
   "metadata": {
    "execution": {
     "iopub.execute_input": "2024-03-13T15:53:34.531729Z",
     "iopub.status.busy": "2024-03-13T15:53:34.531361Z",
     "iopub.status.idle": "2024-03-13T15:54:28.395300Z",
     "shell.execute_reply": "2024-03-13T15:54:28.394295Z",
     "shell.execute_reply.started": "2024-03-13T15:53:34.531700Z"
    }
   },
   "outputs": [
    {
     "name": "stdout",
     "output_type": "stream",
     "text": [
      "Grid scores on training set:\n",
      "\n",
      "Accuracy: 0.837 (+/-0.048) for {'C': 0.1, 'gamma': 0.01, 'kernel': 'rbf'}\n",
      "Accuracy: 0.529 (+/-0.003) for {'C': 0.1, 'gamma': 0.05, 'kernel': 'rbf'}\n",
      "Accuracy: 0.529 (+/-0.003) for {'C': 0.1, 'gamma': 0.1, 'kernel': 'rbf'}\n",
      "Accuracy: 0.529 (+/-0.003) for {'C': 0.1, 'gamma': 0.5, 'kernel': 'rbf'}\n",
      "Accuracy: 0.529 (+/-0.003) for {'C': 0.1, 'gamma': 1, 'kernel': 'rbf'}\n",
      "Accuracy: 0.529 (+/-0.003) for {'C': 0.1, 'gamma': 2, 'kernel': 'rbf'}\n",
      "Accuracy: 0.529 (+/-0.003) for {'C': 0.1, 'gamma': 5, 'kernel': 'rbf'}\n",
      "Accuracy: 0.529 (+/-0.003) for {'C': 0.1, 'gamma': 10, 'kernel': 'rbf'}\n",
      "Accuracy: 0.859 (+/-0.032) for {'C': 0.5, 'gamma': 0.01, 'kernel': 'rbf'}\n",
      "Accuracy: 0.786 (+/-0.028) for {'C': 0.5, 'gamma': 0.05, 'kernel': 'rbf'}\n",
      "Accuracy: 0.571 (+/-0.017) for {'C': 0.5, 'gamma': 0.1, 'kernel': 'rbf'}\n",
      "Accuracy: 0.545 (+/-0.014) for {'C': 0.5, 'gamma': 0.5, 'kernel': 'rbf'}\n",
      "Accuracy: 0.542 (+/-0.012) for {'C': 0.5, 'gamma': 1, 'kernel': 'rbf'}\n",
      "Accuracy: 0.542 (+/-0.013) for {'C': 0.5, 'gamma': 2, 'kernel': 'rbf'}\n",
      "Accuracy: 0.540 (+/-0.011) for {'C': 0.5, 'gamma': 5, 'kernel': 'rbf'}\n",
      "Accuracy: 0.540 (+/-0.011) for {'C': 0.5, 'gamma': 10, 'kernel': 'rbf'}\n",
      "Accuracy: 0.870 (+/-0.012) for {'C': 1, 'gamma': 0.01, 'kernel': 'rbf'}\n",
      "Accuracy: 0.850 (+/-0.040) for {'C': 1, 'gamma': 0.05, 'kernel': 'rbf'}\n",
      "Accuracy: 0.653 (+/-0.028) for {'C': 1, 'gamma': 0.1, 'kernel': 'rbf'}\n",
      "Accuracy: 0.605 (+/-0.025) for {'C': 1, 'gamma': 0.5, 'kernel': 'rbf'}\n",
      "Accuracy: 0.601 (+/-0.023) for {'C': 1, 'gamma': 1, 'kernel': 'rbf'}\n",
      "Accuracy: 0.590 (+/-0.023) for {'C': 1, 'gamma': 2, 'kernel': 'rbf'}\n",
      "Accuracy: 0.581 (+/-0.021) for {'C': 1, 'gamma': 5, 'kernel': 'rbf'}\n",
      "Accuracy: 0.581 (+/-0.021) for {'C': 1, 'gamma': 10, 'kernel': 'rbf'}\n",
      "Accuracy: 0.888 (+/-0.011) for {'C': 2, 'gamma': 0.01, 'kernel': 'rbf'}\n",
      "Accuracy: 0.860 (+/-0.035) for {'C': 2, 'gamma': 0.05, 'kernel': 'rbf'}\n",
      "Accuracy: 0.663 (+/-0.036) for {'C': 2, 'gamma': 0.1, 'kernel': 'rbf'}\n",
      "Accuracy: 0.606 (+/-0.026) for {'C': 2, 'gamma': 0.5, 'kernel': 'rbf'}\n",
      "Accuracy: 0.602 (+/-0.025) for {'C': 2, 'gamma': 1, 'kernel': 'rbf'}\n",
      "Accuracy: 0.592 (+/-0.024) for {'C': 2, 'gamma': 2, 'kernel': 'rbf'}\n",
      "Accuracy: 0.581 (+/-0.021) for {'C': 2, 'gamma': 5, 'kernel': 'rbf'}\n",
      "Accuracy: 0.581 (+/-0.021) for {'C': 2, 'gamma': 10, 'kernel': 'rbf'}\n",
      "Accuracy: 0.899 (+/-0.024) for {'C': 5, 'gamma': 0.01, 'kernel': 'rbf'}\n",
      "Accuracy: 0.860 (+/-0.035) for {'C': 5, 'gamma': 0.05, 'kernel': 'rbf'}\n",
      "Accuracy: 0.663 (+/-0.036) for {'C': 5, 'gamma': 0.1, 'kernel': 'rbf'}\n",
      "Accuracy: 0.606 (+/-0.026) for {'C': 5, 'gamma': 0.5, 'kernel': 'rbf'}\n",
      "Accuracy: 0.602 (+/-0.025) for {'C': 5, 'gamma': 1, 'kernel': 'rbf'}\n",
      "Accuracy: 0.592 (+/-0.024) for {'C': 5, 'gamma': 2, 'kernel': 'rbf'}\n",
      "Accuracy: 0.581 (+/-0.021) for {'C': 5, 'gamma': 5, 'kernel': 'rbf'}\n",
      "Accuracy: 0.581 (+/-0.021) for {'C': 5, 'gamma': 10, 'kernel': 'rbf'}\n",
      "Accuracy: 0.905 (+/-0.012) for {'C': 10, 'gamma': 0.01, 'kernel': 'rbf'}\n",
      "Accuracy: 0.860 (+/-0.035) for {'C': 10, 'gamma': 0.05, 'kernel': 'rbf'}\n",
      "Accuracy: 0.663 (+/-0.036) for {'C': 10, 'gamma': 0.1, 'kernel': 'rbf'}\n",
      "Accuracy: 0.606 (+/-0.026) for {'C': 10, 'gamma': 0.5, 'kernel': 'rbf'}\n",
      "Accuracy: 0.602 (+/-0.025) for {'C': 10, 'gamma': 1, 'kernel': 'rbf'}\n",
      "Accuracy: 0.592 (+/-0.024) for {'C': 10, 'gamma': 2, 'kernel': 'rbf'}\n",
      "Accuracy: 0.581 (+/-0.021) for {'C': 10, 'gamma': 5, 'kernel': 'rbf'}\n",
      "Accuracy: 0.581 (+/-0.021) for {'C': 10, 'gamma': 10, 'kernel': 'rbf'}\n",
      "Accuracy: 0.901 (+/-0.021) for {'C': 20, 'gamma': 0.01, 'kernel': 'rbf'}\n",
      "Accuracy: 0.860 (+/-0.035) for {'C': 20, 'gamma': 0.05, 'kernel': 'rbf'}\n",
      "Accuracy: 0.663 (+/-0.036) for {'C': 20, 'gamma': 0.1, 'kernel': 'rbf'}\n",
      "Accuracy: 0.606 (+/-0.026) for {'C': 20, 'gamma': 0.5, 'kernel': 'rbf'}\n",
      "Accuracy: 0.602 (+/-0.025) for {'C': 20, 'gamma': 1, 'kernel': 'rbf'}\n",
      "Accuracy: 0.592 (+/-0.024) for {'C': 20, 'gamma': 2, 'kernel': 'rbf'}\n",
      "Accuracy: 0.581 (+/-0.021) for {'C': 20, 'gamma': 5, 'kernel': 'rbf'}\n",
      "Accuracy: 0.581 (+/-0.021) for {'C': 20, 'gamma': 10, 'kernel': 'rbf'}\n",
      "Accuracy: 0.901 (+/-0.021) for {'C': 50, 'gamma': 0.01, 'kernel': 'rbf'}\n",
      "Accuracy: 0.860 (+/-0.035) for {'C': 50, 'gamma': 0.05, 'kernel': 'rbf'}\n",
      "Accuracy: 0.663 (+/-0.036) for {'C': 50, 'gamma': 0.1, 'kernel': 'rbf'}\n",
      "Accuracy: 0.606 (+/-0.026) for {'C': 50, 'gamma': 0.5, 'kernel': 'rbf'}\n",
      "Accuracy: 0.602 (+/-0.025) for {'C': 50, 'gamma': 1, 'kernel': 'rbf'}\n",
      "Accuracy: 0.592 (+/-0.024) for {'C': 50, 'gamma': 2, 'kernel': 'rbf'}\n",
      "Accuracy: 0.581 (+/-0.021) for {'C': 50, 'gamma': 5, 'kernel': 'rbf'}\n",
      "Accuracy: 0.581 (+/-0.021) for {'C': 50, 'gamma': 10, 'kernel': 'rbf'}\n",
      "\n",
      "Best score for training data: 0.9045454545454547 \n",
      "\n",
      "Best C: 10 \n",
      "\n",
      "Best Gamma: 0.01 \n",
      "\n"
     ]
    }
   ],
   "source": [
    "from sklearn.model_selection import GridSearchCV\n",
    "from sklearn.svm import SVC\n",
    "\n",
    "# Define the parameter sets to test\n",
    "param_grid = {'C': [0.1, 0.5, 1, 2, 5, 10, 20, 50], \n",
    "              'gamma': [0.01, 0.05, 0.1, 0.5, 1, 2, 5, 10],\n",
    "              'kernel': ['rbf']}\n",
    "\n",
    "# Create a classifier object with the classifier and parameter candidates\n",
    "clf = GridSearchCV(estimator=SVC(random_state=42), param_grid=param_grid, cv=5)\n",
    "\n",
    "# Train the classifier on data1's feature and target data\n",
    "clf.fit(X_train, Y_train) \n",
    "\n",
    "# Print each parameter setting and its performance\n",
    "print(\"Grid scores on training set:\\n\")\n",
    "means = clf.cv_results_['mean_test_score']\n",
    "stds = clf.cv_results_['std_test_score']\n",
    "for mean, std, params in zip(means, stds, clf.cv_results_['params']):\n",
    "    print(\"Accuracy: %0.3f (+/-%0.03f) for %r\" % (mean, std * 2, params))\n",
    "\n",
    "# View the accuracy score\n",
    "print('\\nBest score for training data:', clf.best_score_,\"\\n\") \n",
    "\n",
    "# View the best parameters for the model found using grid search\n",
    "print('Best C:',clf.best_estimator_.C,\"\\n\") \n",
    "print('Best Gamma:',clf.best_estimator_.gamma,\"\\n\")"
   ]
  },
  {
   "cell_type": "markdown",
   "metadata": {},
   "source": [
    "<center>\n",
    "    <h4 style=\"font-family:cursive; color:#ff6666;\">\n",
    "4. Using the chosen parameters from the above parameter selection process for k-NN and SVM, and the default setups for Naïve Bayes classifier and Decision Tree, classify the test set. Repeat each classification method 20 times by varying the split of training-test set as in Step (1). Report the average and standard deviation of classification performance on the test set regarding accuracy, precision, recall, and F1-score. \n",
    "    </h4>\n",
    "</center>"
   ]
  },
  {
   "cell_type": "code",
   "execution_count": 9,
   "metadata": {
    "execution": {
     "iopub.execute_input": "2024-03-13T16:17:02.346165Z",
     "iopub.status.busy": "2024-03-13T16:17:02.345259Z",
     "iopub.status.idle": "2024-03-13T16:17:07.736677Z",
     "shell.execute_reply": "2024-03-13T16:17:07.735781Z",
     "shell.execute_reply.started": "2024-03-13T16:17:02.346127Z"
    }
   },
   "outputs": [
    {
     "name": "stdout",
     "output_type": "stream",
     "text": [
      "\n",
      "KNeighborsClassifier:\n",
      "Accuracy: 0.75 ± 0.02\n",
      "Precision: 0.95 ± 0.02\n",
      "Recall: 0.54 ± 0.04\n",
      "F1: 0.69 ± 0.03\n",
      "\n",
      "SVC:\n",
      "Accuracy: 0.90 ± 0.01\n",
      "Precision: 0.92 ± 0.02\n",
      "Recall: 0.89 ± 0.02\n",
      "F1: 0.90 ± 0.01\n",
      "\n",
      "GaussianNB:\n",
      "Accuracy: 0.87 ± 0.01\n",
      "Precision: 0.87 ± 0.02\n",
      "Recall: 0.88 ± 0.02\n",
      "F1: 0.87 ± 0.01\n",
      "\n",
      "DecisionTreeClassifier:\n",
      "Accuracy: 0.93 ± 0.01\n",
      "Precision: 0.94 ± 0.01\n",
      "Recall: 0.93 ± 0.02\n",
      "F1: 0.93 ± 0.01\n"
     ]
    }
   ],
   "source": [
    "from sklearn.neighbors import KNeighborsClassifier\n",
    "from sklearn.svm import SVC\n",
    "from sklearn.naive_bayes import GaussianNB\n",
    "from sklearn.tree import DecisionTreeClassifier\n",
    "from sklearn.metrics import accuracy_score, precision_score, recall_score, f1_score\n",
    "from sklearn.model_selection import ShuffleSplit\n",
    "\n",
    "# Initialize the classifiers with the chosen parameters\n",
    "knn = KNeighborsClassifier(n_neighbors=15)\n",
    "svm = SVC(C=10, gamma=0.01, kernel='rbf', random_state=42)\n",
    "nb = GaussianNB()\n",
    "dt = DecisionTreeClassifier(random_state=42)\n",
    "\n",
    "classifiers = [knn, svm, nb, dt]\n",
    "metrics = {'accuracy': accuracy_score, 'precision': precision_score, 'recall': recall_score, 'f1': f1_score}\n",
    "results = {classifier: {metric: [] for metric in metrics} for classifier in classifiers}\n",
    "\n",
    "# Initialize the ShuffleSplit object\n",
    "rs = ShuffleSplit(n_splits=20, test_size=0.3, random_state=42)\n",
    "\n",
    "# Repeat the classification 20 times\n",
    "for train_index, test_index in rs.split(X_Data):\n",
    "    X_train, X_test = X_Data[train_index], X_Data[test_index]\n",
    "    Y_train, Y_test = Y_Lavel[train_index], Y_Lavel[test_index]\n",
    "\n",
    "    for classifier in classifiers:\n",
    "        # Train the classifier and make predictions on the test set\n",
    "        classifier.fit(X_train, Y_train)\n",
    "        Y_pred = classifier.predict(X_test)\n",
    "\n",
    "        # Calculate the performance metrics\n",
    "        for metric, function in metrics.items():\n",
    "            score = function(Y_test, Y_pred)\n",
    "            results[classifier][metric].append(score)\n",
    "\n",
    "# Calculate the average and standard deviation of the performance metrics\n",
    "for classifier, metrics in results.items():\n",
    "    print(f'\\n{classifier.__class__.__name__}:')\n",
    "    for metric, scores in metrics.items():\n",
    "        avg = np.mean(scores)\n",
    "        std = np.std(scores)\n",
    "        print(f'{metric.capitalize()}: {avg:.2f} ± {std:.2f}')"
   ]
  },
  {
   "cell_type": "markdown",
   "metadata": {},
   "source": [
    "<center>\n",
    "    <h4 style=\"font-family:cursive; color:#ff6666;\">\n",
    "5. Comment on the obtained results. \n",
    "    </h4>\n",
    "</center>"
   ]
  },
  {
   "cell_type": "markdown",
   "metadata": {},
   "source": [
    "Based on the results we’ve shared, here are some observations:\n",
    "\n",
    "**KNeighborsClassifier (KNN):** This model has the lowest accuracy among the four models. Although it has a high precision, its recall is quite low. This suggests that while the model is good at predicting positive instances correctly (high precision), it struggles to identify all the positive instances (low recall). The F1 score, which is the harmonic mean of precision and recall, is also relatively low.\n",
    "\n",
    "**Support Vector Classifier (SVC):** This model performs significantly better than the KNeighborsClassifier in terms of all metrics. It has high accuracy, precision, recall, and F1 score, indicating that it is good at both predicting positive instances correctly and identifying all the positive instances.\n",
    "\n",
    "**Gaussian Naive Bayes (GaussianNB):** This model has slightly lower performance metrics than the SVC but performs better than the KNeighborsClassifier. It has balanced precision and recall, suggesting that it is equally good at predicting positive instances correctly and identifying all the positive instances.\n",
    "\n",
    "**DecisionTreeClassifier (DT):** This model has the highest performance metrics among all the models. It has high accuracy, precision, recall, and F1 score, indicating that it is excellent at both predicting positive instances correctly and identifying all the positive instances.\n",
    "\n",
    "In conclusion, based on these results, the DecisionTreeClassifier seems to be the best model for your data. However, it’s important to note that these results might vary with different datasets or different splits of the data."
   ]
  },
  {
   "cell_type": "code",
   "execution_count": null,
   "metadata": {},
   "outputs": [],
   "source": []
  }
 ],
 "metadata": {
  "kaggle": {
   "accelerator": "nvidiaTeslaT4",
   "dataSources": [
    {
     "datasetId": 4433471,
     "sourceId": 7613249,
     "sourceType": "datasetVersion"
    },
    {
     "datasetId": 4592429,
     "sourceId": 7834973,
     "sourceType": "datasetVersion"
    }
   ],
   "dockerImageVersionId": 30648,
   "isGpuEnabled": true,
   "isInternetEnabled": true,
   "language": "python",
   "sourceType": "notebook"
  },
  "kernelspec": {
   "display_name": "Python 3 (ipykernel)",
   "language": "python",
   "name": "python3"
  },
  "language_info": {
   "codemirror_mode": {
    "name": "ipython",
    "version": 3
   },
   "file_extension": ".py",
   "mimetype": "text/x-python",
   "name": "python",
   "nbconvert_exporter": "python",
   "pygments_lexer": "ipython3",
   "version": "3.9.7"
  }
 },
 "nbformat": 4,
 "nbformat_minor": 4
}
